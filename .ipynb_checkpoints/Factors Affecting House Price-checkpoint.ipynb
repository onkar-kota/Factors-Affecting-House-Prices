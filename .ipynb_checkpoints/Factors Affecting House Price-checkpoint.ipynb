{
 "cells": [
  {
   "cell_type": "markdown",
   "id": "a72f91ef-b9bf-4ffa-891d-b496749f70f6",
   "metadata": {},
   "source": [
    "## About Dataset"
   ]
  },
  {
   "cell_type": "markdown",
   "id": "c1e41cc8-dba3-4282-b4e3-93268eef39ed",
   "metadata": {
    "tags": []
   },
   "source": [
    "The data in this dataset is collected from FRED."
   ]
  },
  {
   "cell_type": "markdown",
   "id": "ad7a60db-b3bb-4d35-bbc8-52915432ae57",
   "metadata": {},
   "source": [
    "Columns : date, house_price_index, population, house_supply, gdp, mortage_rate, employement_rate, permit_new, ppi_res, m3, cci, delinquency_rate, hcai"
   ]
  },
  {
   "cell_type": "markdown",
   "id": "230b6756-02de-449a-8ff8-1bcc5ff4eea1",
   "metadata": {},
   "source": [
    "## Task \n",
    "\n",
    "- Performing statistical analysis and finding features and find the values by which these features affect the house price index"
   ]
  },
  {
   "cell_type": "markdown",
   "id": "00040670-902d-4b8c-9405-0915d43fcd79",
   "metadata": {},
   "source": [
    "## Data Preprocessing"
   ]
  },
  {
   "cell_type": "code",
   "execution_count": 2,
   "id": "0cc482a6-f064-4440-8e6e-6f811bad8c97",
   "metadata": {
    "tags": []
   },
   "outputs": [
    {
     "name": "stderr",
     "output_type": "stream",
     "text": [
      "D:\\anaconda3\\lib\\site-packages\\numpy\\_distributor_init.py:30: UserWarning: loaded more than 1 DLL from .libs:\n",
      "D:\\anaconda3\\lib\\site-packages\\numpy\\.libs\\libopenblas.FB5AE2TYXYH2IJRDKGDGQ3XBKLKTF43H.gfortran-win_amd64.dll\n",
      "D:\\anaconda3\\lib\\site-packages\\numpy\\.libs\\libopenblas64__v0.3.21-gcc_10_3_0.dll\n",
      "  warnings.warn(\"loaded more than 1 DLL from .libs:\"\n"
     ]
    }
   ],
   "source": [
    "import numpy as np\n",
    "import pandas as pd"
   ]
  },
  {
   "cell_type": "code",
   "execution_count": 4,
   "id": "718db435-faf5-43e1-beac-a2d5e860de14",
   "metadata": {
    "tags": []
   },
   "outputs": [
    {
     "data": {
      "text/html": [
       "<div>\n",
       "<style scoped>\n",
       "    .dataframe tbody tr th:only-of-type {\n",
       "        vertical-align: middle;\n",
       "    }\n",
       "\n",
       "    .dataframe tbody tr th {\n",
       "        vertical-align: top;\n",
       "    }\n",
       "\n",
       "    .dataframe thead th {\n",
       "        text-align: right;\n",
       "    }\n",
       "</style>\n",
       "<table border=\"1\" class=\"dataframe\">\n",
       "  <thead>\n",
       "    <tr style=\"text-align: right;\">\n",
       "      <th></th>\n",
       "      <th>Date</th>\n",
       "      <th>house_price_index</th>\n",
       "      <th>population</th>\n",
       "      <th>house_supply</th>\n",
       "      <th>gdp</th>\n",
       "      <th>mortgage_rate</th>\n",
       "      <th>employment_rate</th>\n",
       "      <th>permit_new</th>\n",
       "      <th>ppi_res</th>\n",
       "      <th>m3</th>\n",
       "      <th>cci</th>\n",
       "      <th>delinquency_rate</th>\n",
       "      <th>hcai</th>\n",
       "    </tr>\n",
       "  </thead>\n",
       "  <tbody>\n",
       "    <tr>\n",
       "      <th>0</th>\n",
       "      <td>1987-01-01</td>\n",
       "      <td>63.965</td>\n",
       "      <td>241857</td>\n",
       "      <td>6.0</td>\n",
       "      <td>99.902813</td>\n",
       "      <td>9.2040</td>\n",
       "      <td>70.163085</td>\n",
       "      <td>1690.0</td>\n",
       "      <td>100.0</td>\n",
       "      <td>2.7439</td>\n",
       "      <td>100.4624</td>\n",
       "      <td>NaN</td>\n",
       "      <td>NaN</td>\n",
       "    </tr>\n",
       "    <tr>\n",
       "      <th>1</th>\n",
       "      <td>1987-02-01</td>\n",
       "      <td>64.424</td>\n",
       "      <td>242005</td>\n",
       "      <td>6.2</td>\n",
       "      <td>99.875864</td>\n",
       "      <td>9.0825</td>\n",
       "      <td>70.289205</td>\n",
       "      <td>1689.0</td>\n",
       "      <td>100.4</td>\n",
       "      <td>2.7475</td>\n",
       "      <td>100.4945</td>\n",
       "      <td>NaN</td>\n",
       "      <td>NaN</td>\n",
       "    </tr>\n",
       "    <tr>\n",
       "      <th>2</th>\n",
       "      <td>1987-03-01</td>\n",
       "      <td>64.735</td>\n",
       "      <td>242166</td>\n",
       "      <td>6.0</td>\n",
       "      <td>99.869734</td>\n",
       "      <td>9.0350</td>\n",
       "      <td>70.321678</td>\n",
       "      <td>1704.0</td>\n",
       "      <td>100.7</td>\n",
       "      <td>2.7537</td>\n",
       "      <td>100.5720</td>\n",
       "      <td>NaN</td>\n",
       "      <td>NaN</td>\n",
       "    </tr>\n",
       "    <tr>\n",
       "      <th>3</th>\n",
       "      <td>1987-04-01</td>\n",
       "      <td>65.132</td>\n",
       "      <td>242338</td>\n",
       "      <td>6.0</td>\n",
       "      <td>99.882087</td>\n",
       "      <td>9.8325</td>\n",
       "      <td>70.499062</td>\n",
       "      <td>1601.0</td>\n",
       "      <td>101.1</td>\n",
       "      <td>2.7677</td>\n",
       "      <td>100.6568</td>\n",
       "      <td>NaN</td>\n",
       "      <td>NaN</td>\n",
       "    </tr>\n",
       "    <tr>\n",
       "      <th>4</th>\n",
       "      <td>1987-05-01</td>\n",
       "      <td>65.565</td>\n",
       "      <td>242516</td>\n",
       "      <td>6.7</td>\n",
       "      <td>99.910371</td>\n",
       "      <td>10.5960</td>\n",
       "      <td>70.808308</td>\n",
       "      <td>1500.0</td>\n",
       "      <td>101.3</td>\n",
       "      <td>2.7729</td>\n",
       "      <td>100.6919</td>\n",
       "      <td>NaN</td>\n",
       "      <td>NaN</td>\n",
       "    </tr>\n",
       "  </tbody>\n",
       "</table>\n",
       "</div>"
      ],
      "text/plain": [
       "         Date  house_price_index  population  house_supply        gdp  \\\n",
       "0  1987-01-01             63.965      241857           6.0  99.902813   \n",
       "1  1987-02-01             64.424      242005           6.2  99.875864   \n",
       "2  1987-03-01             64.735      242166           6.0  99.869734   \n",
       "3  1987-04-01             65.132      242338           6.0  99.882087   \n",
       "4  1987-05-01             65.565      242516           6.7  99.910371   \n",
       "\n",
       "   mortgage_rate  employment_rate  permit_new  ppi_res      m3       cci  \\\n",
       "0         9.2040        70.163085      1690.0    100.0  2.7439  100.4624   \n",
       "1         9.0825        70.289205      1689.0    100.4  2.7475  100.4945   \n",
       "2         9.0350        70.321678      1704.0    100.7  2.7537  100.5720   \n",
       "3         9.8325        70.499062      1601.0    101.1  2.7677  100.6568   \n",
       "4        10.5960        70.808308      1500.0    101.3  2.7729  100.6919   \n",
       "\n",
       "   delinquency_rate  hcai  \n",
       "0               NaN   NaN  \n",
       "1               NaN   NaN  \n",
       "2               NaN   NaN  \n",
       "3               NaN   NaN  \n",
       "4               NaN   NaN  "
      ]
     },
     "execution_count": 4,
     "metadata": {},
     "output_type": "execute_result"
    }
   ],
   "source": [
    "data = pd.read_csv('Housing_Macroeconomic_Factors_US.csv')\n",
    "data.head()"
   ]
  },
  {
   "cell_type": "code",
   "execution_count": 6,
   "id": "364ced88-8b47-4ff2-a0b5-f51548938909",
   "metadata": {
    "tags": []
   },
   "outputs": [
    {
     "name": "stdout",
     "output_type": "stream",
     "text": [
      "<class 'pandas.core.frame.DataFrame'>\n",
      "RangeIndex: 425 entries, 0 to 424\n",
      "Data columns (total 13 columns):\n",
      " #   Column             Non-Null Count  Dtype  \n",
      "---  ------             --------------  -----  \n",
      " 0   Date               425 non-null    object \n",
      " 1   house_price_index  425 non-null    float64\n",
      " 2   population         425 non-null    int64  \n",
      " 3   house_supply       425 non-null    float64\n",
      " 4   gdp                422 non-null    float64\n",
      " 5   mortgage_rate      422 non-null    float64\n",
      " 6   employment_rate    422 non-null    float64\n",
      " 7   permit_new         422 non-null    float64\n",
      " 8   ppi_res            422 non-null    float64\n",
      " 9   m3                 422 non-null    float64\n",
      " 10  cci                422 non-null    float64\n",
      " 11  delinquency_rate   374 non-null    float64\n",
      " 12  hcai               285 non-null    float64\n",
      "dtypes: float64(11), int64(1), object(1)\n",
      "memory usage: 43.3+ KB\n"
     ]
    }
   ],
   "source": [
    "data.info()"
   ]
  },
  {
   "cell_type": "markdown",
   "id": "1facecd5-a133-418c-ba6f-2c08cc374ce8",
   "metadata": {},
   "source": [
    "- as we can see there are missing values in delinquency_rate and hcai, I think it is better to drop these rows with missing values.\n",
    "- and the date is in object datatpye so we need to convert into date."
   ]
  },
  {
   "cell_type": "code",
   "execution_count": 7,
   "id": "0b89d3c1-6215-4336-8b01-6b5e68c57203",
   "metadata": {
    "tags": []
   },
   "outputs": [
    {
     "data": {
      "text/html": [
       "<div>\n",
       "<style scoped>\n",
       "    .dataframe tbody tr th:only-of-type {\n",
       "        vertical-align: middle;\n",
       "    }\n",
       "\n",
       "    .dataframe tbody tr th {\n",
       "        vertical-align: top;\n",
       "    }\n",
       "\n",
       "    .dataframe thead th {\n",
       "        text-align: right;\n",
       "    }\n",
       "</style>\n",
       "<table border=\"1\" class=\"dataframe\">\n",
       "  <thead>\n",
       "    <tr style=\"text-align: right;\">\n",
       "      <th></th>\n",
       "      <th>house_price_index</th>\n",
       "      <th>population</th>\n",
       "      <th>house_supply</th>\n",
       "      <th>gdp</th>\n",
       "      <th>mortgage_rate</th>\n",
       "      <th>employment_rate</th>\n",
       "      <th>permit_new</th>\n",
       "      <th>ppi_res</th>\n",
       "      <th>m3</th>\n",
       "      <th>cci</th>\n",
       "      <th>delinquency_rate</th>\n",
       "      <th>hcai</th>\n",
       "    </tr>\n",
       "  </thead>\n",
       "  <tbody>\n",
       "    <tr>\n",
       "      <th>count</th>\n",
       "      <td>425.000000</td>\n",
       "      <td>425.000000</td>\n",
       "      <td>425.000000</td>\n",
       "      <td>422.000000</td>\n",
       "      <td>422.000000</td>\n",
       "      <td>422.000000</td>\n",
       "      <td>422.000000</td>\n",
       "      <td>422.000000</td>\n",
       "      <td>422.000000</td>\n",
       "      <td>422.000000</td>\n",
       "      <td>374.000000</td>\n",
       "      <td>285.000000</td>\n",
       "    </tr>\n",
       "    <tr>\n",
       "      <th>mean</th>\n",
       "      <td>135.887280</td>\n",
       "      <td>291988.251765</td>\n",
       "      <td>5.813412</td>\n",
       "      <td>99.955457</td>\n",
       "      <td>6.328301</td>\n",
       "      <td>70.759327</td>\n",
       "      <td>1346.962085</td>\n",
       "      <td>166.813685</td>\n",
       "      <td>7.666456</td>\n",
       "      <td>100.124667</td>\n",
       "      <td>3.984947</td>\n",
       "      <td>8.981895</td>\n",
       "    </tr>\n",
       "    <tr>\n",
       "      <th>std</th>\n",
       "      <td>53.684802</td>\n",
       "      <td>28193.599715</td>\n",
       "      <td>1.691079</td>\n",
       "      <td>1.124453</td>\n",
       "      <td>2.209432</td>\n",
       "      <td>2.247253</td>\n",
       "      <td>394.776877</td>\n",
       "      <td>43.943882</td>\n",
       "      <td>4.656247</td>\n",
       "      <td>1.466327</td>\n",
       "      <td>2.912758</td>\n",
       "      <td>6.855745</td>\n",
       "    </tr>\n",
       "    <tr>\n",
       "      <th>min</th>\n",
       "      <td>63.965000</td>\n",
       "      <td>241857.000000</td>\n",
       "      <td>3.300000</td>\n",
       "      <td>91.543057</td>\n",
       "      <td>2.684000</td>\n",
       "      <td>60.261014</td>\n",
       "      <td>513.000000</td>\n",
       "      <td>100.000000</td>\n",
       "      <td>2.743900</td>\n",
       "      <td>96.460330</td>\n",
       "      <td>1.400000</td>\n",
       "      <td>2.293000</td>\n",
       "    </tr>\n",
       "    <tr>\n",
       "      <th>25%</th>\n",
       "      <td>81.620000</td>\n",
       "      <td>267829.000000</td>\n",
       "      <td>4.400000</td>\n",
       "      <td>99.559318</td>\n",
       "      <td>4.266250</td>\n",
       "      <td>69.317138</td>\n",
       "      <td>1077.250000</td>\n",
       "      <td>133.500000</td>\n",
       "      <td>3.615025</td>\n",
       "      <td>99.106098</td>\n",
       "      <td>2.130000</td>\n",
       "      <td>2.642000</td>\n",
       "    </tr>\n",
       "    <tr>\n",
       "      <th>50%</th>\n",
       "      <td>139.727000</td>\n",
       "      <td>293857.000000</td>\n",
       "      <td>5.500000</td>\n",
       "      <td>99.977924</td>\n",
       "      <td>6.257250</td>\n",
       "      <td>71.221613</td>\n",
       "      <td>1362.000000</td>\n",
       "      <td>154.750000</td>\n",
       "      <td>6.297450</td>\n",
       "      <td>100.498000</td>\n",
       "      <td>2.470000</td>\n",
       "      <td>5.958000</td>\n",
       "    </tr>\n",
       "    <tr>\n",
       "      <th>75%</th>\n",
       "      <td>174.802000</td>\n",
       "      <td>317156.000000</td>\n",
       "      <td>6.700000</td>\n",
       "      <td>100.556927</td>\n",
       "      <td>7.912000</td>\n",
       "      <td>72.281388</td>\n",
       "      <td>1614.750000</td>\n",
       "      <td>207.400000</td>\n",
       "      <td>10.617625</td>\n",
       "      <td>101.063150</td>\n",
       "      <td>4.490000</td>\n",
       "      <td>15.779000</td>\n",
       "    </tr>\n",
       "    <tr>\n",
       "      <th>max</th>\n",
       "      <td>304.831000</td>\n",
       "      <td>332928.000000</td>\n",
       "      <td>12.200000</td>\n",
       "      <td>101.825852</td>\n",
       "      <td>11.260000</td>\n",
       "      <td>74.507436</td>\n",
       "      <td>2263.000000</td>\n",
       "      <td>303.546000</td>\n",
       "      <td>21.749700</td>\n",
       "      <td>102.977600</td>\n",
       "      <td>11.360000</td>\n",
       "      <td>21.774000</td>\n",
       "    </tr>\n",
       "  </tbody>\n",
       "</table>\n",
       "</div>"
      ],
      "text/plain": [
       "       house_price_index     population  house_supply         gdp  \\\n",
       "count         425.000000     425.000000    425.000000  422.000000   \n",
       "mean          135.887280  291988.251765      5.813412   99.955457   \n",
       "std            53.684802   28193.599715      1.691079    1.124453   \n",
       "min            63.965000  241857.000000      3.300000   91.543057   \n",
       "25%            81.620000  267829.000000      4.400000   99.559318   \n",
       "50%           139.727000  293857.000000      5.500000   99.977924   \n",
       "75%           174.802000  317156.000000      6.700000  100.556927   \n",
       "max           304.831000  332928.000000     12.200000  101.825852   \n",
       "\n",
       "       mortgage_rate  employment_rate   permit_new     ppi_res          m3  \\\n",
       "count     422.000000       422.000000   422.000000  422.000000  422.000000   \n",
       "mean        6.328301        70.759327  1346.962085  166.813685    7.666456   \n",
       "std         2.209432         2.247253   394.776877   43.943882    4.656247   \n",
       "min         2.684000        60.261014   513.000000  100.000000    2.743900   \n",
       "25%         4.266250        69.317138  1077.250000  133.500000    3.615025   \n",
       "50%         6.257250        71.221613  1362.000000  154.750000    6.297450   \n",
       "75%         7.912000        72.281388  1614.750000  207.400000   10.617625   \n",
       "max        11.260000        74.507436  2263.000000  303.546000   21.749700   \n",
       "\n",
       "              cci  delinquency_rate        hcai  \n",
       "count  422.000000        374.000000  285.000000  \n",
       "mean   100.124667          3.984947    8.981895  \n",
       "std      1.466327          2.912758    6.855745  \n",
       "min     96.460330          1.400000    2.293000  \n",
       "25%     99.106098          2.130000    2.642000  \n",
       "50%    100.498000          2.470000    5.958000  \n",
       "75%    101.063150          4.490000   15.779000  \n",
       "max    102.977600         11.360000   21.774000  "
      ]
     },
     "execution_count": 7,
     "metadata": {},
     "output_type": "execute_result"
    }
   ],
   "source": [
    "data.describe()"
   ]
  },
  {
   "cell_type": "code",
   "execution_count": 8,
   "id": "9163d906-4936-4219-b59f-40d2c7c73586",
   "metadata": {
    "tags": []
   },
   "outputs": [
    {
     "name": "stdout",
     "output_type": "stream",
     "text": [
      "Shape of data: (425, 13)\n"
     ]
    }
   ],
   "source": [
    "print(\"Shape of data:\",data.shape)"
   ]
  },
  {
   "cell_type": "markdown",
   "id": "fa913644-c13b-4e03-a2cf-f394d140e3a0",
   "metadata": {},
   "source": [
    "- Shape specifies that we have 425 rows and 13 columns"
   ]
  },
  {
   "cell_type": "code",
   "execution_count": 9,
   "id": "04304bff-811c-4ff2-914a-7405c4388644",
   "metadata": {
    "tags": []
   },
   "outputs": [],
   "source": [
    "data['Date'] = pd.to_datetime(data['Date'])"
   ]
  },
  {
   "cell_type": "code",
   "execution_count": 10,
   "id": "b7ebe457-1e6c-407c-aa69-326959f6155d",
   "metadata": {
    "tags": []
   },
   "outputs": [
    {
     "name": "stdout",
     "output_type": "stream",
     "text": [
      "<class 'pandas.core.frame.DataFrame'>\n",
      "RangeIndex: 425 entries, 0 to 424\n",
      "Data columns (total 13 columns):\n",
      " #   Column             Non-Null Count  Dtype         \n",
      "---  ------             --------------  -----         \n",
      " 0   Date               425 non-null    datetime64[ns]\n",
      " 1   house_price_index  425 non-null    float64       \n",
      " 2   population         425 non-null    int64         \n",
      " 3   house_supply       425 non-null    float64       \n",
      " 4   gdp                422 non-null    float64       \n",
      " 5   mortgage_rate      422 non-null    float64       \n",
      " 6   employment_rate    422 non-null    float64       \n",
      " 7   permit_new         422 non-null    float64       \n",
      " 8   ppi_res            422 non-null    float64       \n",
      " 9   m3                 422 non-null    float64       \n",
      " 10  cci                422 non-null    float64       \n",
      " 11  delinquency_rate   374 non-null    float64       \n",
      " 12  hcai               285 non-null    float64       \n",
      "dtypes: datetime64[ns](1), float64(11), int64(1)\n",
      "memory usage: 43.3 KB\n"
     ]
    }
   ],
   "source": [
    "data.info()"
   ]
  },
  {
   "cell_type": "code",
   "execution_count": 12,
   "id": "1021420d-a550-4ea7-acd9-ca3061b7942e",
   "metadata": {
    "tags": []
   },
   "outputs": [
    {
     "data": {
      "text/html": [
       "<div>\n",
       "<style scoped>\n",
       "    .dataframe tbody tr th:only-of-type {\n",
       "        vertical-align: middle;\n",
       "    }\n",
       "\n",
       "    .dataframe tbody tr th {\n",
       "        vertical-align: top;\n",
       "    }\n",
       "\n",
       "    .dataframe thead th {\n",
       "        text-align: right;\n",
       "    }\n",
       "</style>\n",
       "<table border=\"1\" class=\"dataframe\">\n",
       "  <thead>\n",
       "    <tr style=\"text-align: right;\">\n",
       "      <th></th>\n",
       "      <th>house_price_index</th>\n",
       "      <th>population</th>\n",
       "      <th>house_supply</th>\n",
       "      <th>gdp</th>\n",
       "      <th>mortgage_rate</th>\n",
       "      <th>employment_rate</th>\n",
       "      <th>permit_new</th>\n",
       "      <th>ppi_res</th>\n",
       "      <th>m3</th>\n",
       "      <th>cci</th>\n",
       "      <th>delinquency_rate</th>\n",
       "      <th>hcai</th>\n",
       "    </tr>\n",
       "    <tr>\n",
       "      <th>Date</th>\n",
       "      <th></th>\n",
       "      <th></th>\n",
       "      <th></th>\n",
       "      <th></th>\n",
       "      <th></th>\n",
       "      <th></th>\n",
       "      <th></th>\n",
       "      <th></th>\n",
       "      <th></th>\n",
       "      <th></th>\n",
       "      <th></th>\n",
       "      <th></th>\n",
       "    </tr>\n",
       "  </thead>\n",
       "  <tbody>\n",
       "    <tr>\n",
       "      <th>1998-01-01</th>\n",
       "      <td>87.616</td>\n",
       "      <td>274732</td>\n",
       "      <td>4.0</td>\n",
       "      <td>99.994570</td>\n",
       "      <td>6.9940</td>\n",
       "      <td>73.705376</td>\n",
       "      <td>1555.0</td>\n",
       "      <td>137.3</td>\n",
       "      <td>4.0562</td>\n",
       "      <td>102.5385</td>\n",
       "      <td>2.16</td>\n",
       "      <td>10.024</td>\n",
       "    </tr>\n",
       "    <tr>\n",
       "      <th>1998-02-01</th>\n",
       "      <td>88.004</td>\n",
       "      <td>274943</td>\n",
       "      <td>3.9</td>\n",
       "      <td>99.980549</td>\n",
       "      <td>7.0425</td>\n",
       "      <td>73.776106</td>\n",
       "      <td>1647.0</td>\n",
       "      <td>137.5</td>\n",
       "      <td>4.0889</td>\n",
       "      <td>102.7129</td>\n",
       "      <td>2.16</td>\n",
       "      <td>10.024</td>\n",
       "    </tr>\n",
       "    <tr>\n",
       "      <th>1998-03-01</th>\n",
       "      <td>88.443</td>\n",
       "      <td>275175</td>\n",
       "      <td>4.1</td>\n",
       "      <td>99.975298</td>\n",
       "      <td>7.1275</td>\n",
       "      <td>73.798698</td>\n",
       "      <td>1605.0</td>\n",
       "      <td>137.5</td>\n",
       "      <td>4.1143</td>\n",
       "      <td>102.7210</td>\n",
       "      <td>2.16</td>\n",
       "      <td>10.024</td>\n",
       "    </tr>\n",
       "    <tr>\n",
       "      <th>1998-04-01</th>\n",
       "      <td>88.879</td>\n",
       "      <td>275434</td>\n",
       "      <td>4.0</td>\n",
       "      <td>99.984454</td>\n",
       "      <td>7.1400</td>\n",
       "      <td>73.869665</td>\n",
       "      <td>1547.0</td>\n",
       "      <td>137.9</td>\n",
       "      <td>4.1402</td>\n",
       "      <td>102.6981</td>\n",
       "      <td>2.03</td>\n",
       "      <td>9.668</td>\n",
       "    </tr>\n",
       "    <tr>\n",
       "      <th>1998-05-01</th>\n",
       "      <td>89.365</td>\n",
       "      <td>275700</td>\n",
       "      <td>3.9</td>\n",
       "      <td>100.013988</td>\n",
       "      <td>7.1440</td>\n",
       "      <td>73.880942</td>\n",
       "      <td>1554.0</td>\n",
       "      <td>137.6</td>\n",
       "      <td>4.1644</td>\n",
       "      <td>102.5923</td>\n",
       "      <td>2.03</td>\n",
       "      <td>9.668</td>\n",
       "    </tr>\n",
       "  </tbody>\n",
       "</table>\n",
       "</div>"
      ],
      "text/plain": [
       "            house_price_index  population  house_supply         gdp  \\\n",
       "Date                                                                  \n",
       "1998-01-01             87.616      274732           4.0   99.994570   \n",
       "1998-02-01             88.004      274943           3.9   99.980549   \n",
       "1998-03-01             88.443      275175           4.1   99.975298   \n",
       "1998-04-01             88.879      275434           4.0   99.984454   \n",
       "1998-05-01             89.365      275700           3.9  100.013988   \n",
       "\n",
       "            mortgage_rate  employment_rate  permit_new  ppi_res      m3  \\\n",
       "Date                                                                      \n",
       "1998-01-01         6.9940        73.705376      1555.0    137.3  4.0562   \n",
       "1998-02-01         7.0425        73.776106      1647.0    137.5  4.0889   \n",
       "1998-03-01         7.1275        73.798698      1605.0    137.5  4.1143   \n",
       "1998-04-01         7.1400        73.869665      1547.0    137.9  4.1402   \n",
       "1998-05-01         7.1440        73.880942      1554.0    137.6  4.1644   \n",
       "\n",
       "                 cci  delinquency_rate    hcai  \n",
       "Date                                            \n",
       "1998-01-01  102.5385              2.16  10.024  \n",
       "1998-02-01  102.7129              2.16  10.024  \n",
       "1998-03-01  102.7210              2.16  10.024  \n",
       "1998-04-01  102.6981              2.03   9.668  \n",
       "1998-05-01  102.5923              2.03   9.668  "
      ]
     },
     "execution_count": 12,
     "metadata": {},
     "output_type": "execute_result"
    }
   ],
   "source": [
    "data = data.dropna().set_index('Date')\n",
    "data[:5]"
   ]
  },
  {
   "cell_type": "markdown",
   "id": "59a25dbc-8e30-480c-8f78-412c7e6744b8",
   "metadata": {},
   "source": [
    "## Finding correlation between each features"
   ]
  },
  {
   "cell_type": "code",
   "execution_count": 13,
   "id": "e9b57b75-9e32-4dd6-8f8e-2340e9425f5f",
   "metadata": {
    "tags": []
   },
   "outputs": [],
   "source": [
    "data_corr = data.corr()"
   ]
  },
  {
   "cell_type": "code",
   "execution_count": 14,
   "id": "dd13ee20-134e-46a8-a4f5-ae462b7ab648",
   "metadata": {
    "tags": []
   },
   "outputs": [
    {
     "data": {
      "text/html": [
       "<div>\n",
       "<style scoped>\n",
       "    .dataframe tbody tr th:only-of-type {\n",
       "        vertical-align: middle;\n",
       "    }\n",
       "\n",
       "    .dataframe tbody tr th {\n",
       "        vertical-align: top;\n",
       "    }\n",
       "\n",
       "    .dataframe thead th {\n",
       "        text-align: right;\n",
       "    }\n",
       "</style>\n",
       "<table border=\"1\" class=\"dataframe\">\n",
       "  <thead>\n",
       "    <tr style=\"text-align: right;\">\n",
       "      <th></th>\n",
       "      <th>house_price_index</th>\n",
       "      <th>population</th>\n",
       "      <th>house_supply</th>\n",
       "      <th>gdp</th>\n",
       "      <th>mortgage_rate</th>\n",
       "      <th>employment_rate</th>\n",
       "      <th>permit_new</th>\n",
       "      <th>ppi_res</th>\n",
       "      <th>m3</th>\n",
       "      <th>cci</th>\n",
       "      <th>delinquency_rate</th>\n",
       "      <th>hcai</th>\n",
       "    </tr>\n",
       "  </thead>\n",
       "  <tbody>\n",
       "    <tr>\n",
       "      <th>house_price_index</th>\n",
       "      <td>1.000000</td>\n",
       "      <td>0.839224</td>\n",
       "      <td>0.242975</td>\n",
       "      <td>-0.168801</td>\n",
       "      <td>-0.703353</td>\n",
       "      <td>-0.377120</td>\n",
       "      <td>-0.010753</td>\n",
       "      <td>0.824287</td>\n",
       "      <td>0.865751</td>\n",
       "      <td>-0.199710</td>\n",
       "      <td>-0.076667</td>\n",
       "      <td>-0.446426</td>\n",
       "    </tr>\n",
       "    <tr>\n",
       "      <th>population</th>\n",
       "      <td>0.839224</td>\n",
       "      <td>1.000000</td>\n",
       "      <td>0.236918</td>\n",
       "      <td>-0.253623</td>\n",
       "      <td>-0.917155</td>\n",
       "      <td>-0.667300</td>\n",
       "      <td>-0.429730</td>\n",
       "      <td>0.966883</td>\n",
       "      <td>0.939660</td>\n",
       "      <td>-0.298246</td>\n",
       "      <td>0.347681</td>\n",
       "      <td>-0.812660</td>\n",
       "    </tr>\n",
       "    <tr>\n",
       "      <th>house_supply</th>\n",
       "      <td>0.242975</td>\n",
       "      <td>0.236918</td>\n",
       "      <td>1.000000</td>\n",
       "      <td>0.077478</td>\n",
       "      <td>-0.075973</td>\n",
       "      <td>-0.263978</td>\n",
       "      <td>-0.598446</td>\n",
       "      <td>0.268735</td>\n",
       "      <td>0.077569</td>\n",
       "      <td>-0.619238</td>\n",
       "      <td>0.373916</td>\n",
       "      <td>-0.270590</td>\n",
       "    </tr>\n",
       "    <tr>\n",
       "      <th>gdp</th>\n",
       "      <td>-0.168801</td>\n",
       "      <td>-0.253623</td>\n",
       "      <td>0.077478</td>\n",
       "      <td>1.000000</td>\n",
       "      <td>0.397346</td>\n",
       "      <td>0.569070</td>\n",
       "      <td>0.158752</td>\n",
       "      <td>-0.182743</td>\n",
       "      <td>-0.339884</td>\n",
       "      <td>0.372289</td>\n",
       "      <td>-0.175718</td>\n",
       "      <td>0.236192</td>\n",
       "    </tr>\n",
       "    <tr>\n",
       "      <th>mortgage_rate</th>\n",
       "      <td>-0.703353</td>\n",
       "      <td>-0.917155</td>\n",
       "      <td>-0.075973</td>\n",
       "      <td>0.397346</td>\n",
       "      <td>1.000000</td>\n",
       "      <td>0.774149</td>\n",
       "      <td>0.426677</td>\n",
       "      <td>-0.887792</td>\n",
       "      <td>-0.873620</td>\n",
       "      <td>0.377073</td>\n",
       "      <td>-0.458536</td>\n",
       "      <td>0.791513</td>\n",
       "    </tr>\n",
       "    <tr>\n",
       "      <th>employment_rate</th>\n",
       "      <td>-0.377120</td>\n",
       "      <td>-0.667300</td>\n",
       "      <td>-0.263978</td>\n",
       "      <td>0.569070</td>\n",
       "      <td>0.774149</td>\n",
       "      <td>1.000000</td>\n",
       "      <td>0.677676</td>\n",
       "      <td>-0.645726</td>\n",
       "      <td>-0.549223</td>\n",
       "      <td>0.686113</td>\n",
       "      <td>-0.775166</td>\n",
       "      <td>0.649549</td>\n",
       "    </tr>\n",
       "    <tr>\n",
       "      <th>permit_new</th>\n",
       "      <td>-0.010753</td>\n",
       "      <td>-0.429730</td>\n",
       "      <td>-0.598446</td>\n",
       "      <td>0.158752</td>\n",
       "      <td>0.426677</td>\n",
       "      <td>0.677676</td>\n",
       "      <td>1.000000</td>\n",
       "      <td>-0.452190</td>\n",
       "      <td>-0.240966</td>\n",
       "      <td>0.613082</td>\n",
       "      <td>-0.885838</td>\n",
       "      <td>0.714809</td>\n",
       "    </tr>\n",
       "    <tr>\n",
       "      <th>ppi_res</th>\n",
       "      <td>0.824287</td>\n",
       "      <td>0.966883</td>\n",
       "      <td>0.268735</td>\n",
       "      <td>-0.182743</td>\n",
       "      <td>-0.887792</td>\n",
       "      <td>-0.645726</td>\n",
       "      <td>-0.452190</td>\n",
       "      <td>1.000000</td>\n",
       "      <td>0.939083</td>\n",
       "      <td>-0.329916</td>\n",
       "      <td>0.382443</td>\n",
       "      <td>-0.827442</td>\n",
       "    </tr>\n",
       "    <tr>\n",
       "      <th>m3</th>\n",
       "      <td>0.865751</td>\n",
       "      <td>0.939660</td>\n",
       "      <td>0.077569</td>\n",
       "      <td>-0.339884</td>\n",
       "      <td>-0.873620</td>\n",
       "      <td>-0.549223</td>\n",
       "      <td>-0.240966</td>\n",
       "      <td>0.939083</td>\n",
       "      <td>1.000000</td>\n",
       "      <td>-0.176196</td>\n",
       "      <td>0.149472</td>\n",
       "      <td>-0.755793</td>\n",
       "    </tr>\n",
       "    <tr>\n",
       "      <th>cci</th>\n",
       "      <td>-0.199710</td>\n",
       "      <td>-0.298246</td>\n",
       "      <td>-0.619238</td>\n",
       "      <td>0.372289</td>\n",
       "      <td>0.377073</td>\n",
       "      <td>0.686113</td>\n",
       "      <td>0.613082</td>\n",
       "      <td>-0.329916</td>\n",
       "      <td>-0.176196</td>\n",
       "      <td>1.000000</td>\n",
       "      <td>-0.658309</td>\n",
       "      <td>0.311164</td>\n",
       "    </tr>\n",
       "    <tr>\n",
       "      <th>delinquency_rate</th>\n",
       "      <td>-0.076667</td>\n",
       "      <td>0.347681</td>\n",
       "      <td>0.373916</td>\n",
       "      <td>-0.175718</td>\n",
       "      <td>-0.458536</td>\n",
       "      <td>-0.775166</td>\n",
       "      <td>-0.885838</td>\n",
       "      <td>0.382443</td>\n",
       "      <td>0.149472</td>\n",
       "      <td>-0.658309</td>\n",
       "      <td>1.000000</td>\n",
       "      <td>-0.570729</td>\n",
       "    </tr>\n",
       "    <tr>\n",
       "      <th>hcai</th>\n",
       "      <td>-0.446426</td>\n",
       "      <td>-0.812660</td>\n",
       "      <td>-0.270590</td>\n",
       "      <td>0.236192</td>\n",
       "      <td>0.791513</td>\n",
       "      <td>0.649549</td>\n",
       "      <td>0.714809</td>\n",
       "      <td>-0.827442</td>\n",
       "      <td>-0.755793</td>\n",
       "      <td>0.311164</td>\n",
       "      <td>-0.570729</td>\n",
       "      <td>1.000000</td>\n",
       "    </tr>\n",
       "  </tbody>\n",
       "</table>\n",
       "</div>"
      ],
      "text/plain": [
       "                   house_price_index  population  house_supply       gdp  \\\n",
       "house_price_index           1.000000    0.839224      0.242975 -0.168801   \n",
       "population                  0.839224    1.000000      0.236918 -0.253623   \n",
       "house_supply                0.242975    0.236918      1.000000  0.077478   \n",
       "gdp                        -0.168801   -0.253623      0.077478  1.000000   \n",
       "mortgage_rate              -0.703353   -0.917155     -0.075973  0.397346   \n",
       "employment_rate            -0.377120   -0.667300     -0.263978  0.569070   \n",
       "permit_new                 -0.010753   -0.429730     -0.598446  0.158752   \n",
       "ppi_res                     0.824287    0.966883      0.268735 -0.182743   \n",
       "m3                          0.865751    0.939660      0.077569 -0.339884   \n",
       "cci                        -0.199710   -0.298246     -0.619238  0.372289   \n",
       "delinquency_rate           -0.076667    0.347681      0.373916 -0.175718   \n",
       "hcai                       -0.446426   -0.812660     -0.270590  0.236192   \n",
       "\n",
       "                   mortgage_rate  employment_rate  permit_new   ppi_res  \\\n",
       "house_price_index      -0.703353        -0.377120   -0.010753  0.824287   \n",
       "population             -0.917155        -0.667300   -0.429730  0.966883   \n",
       "house_supply           -0.075973        -0.263978   -0.598446  0.268735   \n",
       "gdp                     0.397346         0.569070    0.158752 -0.182743   \n",
       "mortgage_rate           1.000000         0.774149    0.426677 -0.887792   \n",
       "employment_rate         0.774149         1.000000    0.677676 -0.645726   \n",
       "permit_new              0.426677         0.677676    1.000000 -0.452190   \n",
       "ppi_res                -0.887792        -0.645726   -0.452190  1.000000   \n",
       "m3                     -0.873620        -0.549223   -0.240966  0.939083   \n",
       "cci                     0.377073         0.686113    0.613082 -0.329916   \n",
       "delinquency_rate       -0.458536        -0.775166   -0.885838  0.382443   \n",
       "hcai                    0.791513         0.649549    0.714809 -0.827442   \n",
       "\n",
       "                         m3       cci  delinquency_rate      hcai  \n",
       "house_price_index  0.865751 -0.199710         -0.076667 -0.446426  \n",
       "population         0.939660 -0.298246          0.347681 -0.812660  \n",
       "house_supply       0.077569 -0.619238          0.373916 -0.270590  \n",
       "gdp               -0.339884  0.372289         -0.175718  0.236192  \n",
       "mortgage_rate     -0.873620  0.377073         -0.458536  0.791513  \n",
       "employment_rate   -0.549223  0.686113         -0.775166  0.649549  \n",
       "permit_new        -0.240966  0.613082         -0.885838  0.714809  \n",
       "ppi_res            0.939083 -0.329916          0.382443 -0.827442  \n",
       "m3                 1.000000 -0.176196          0.149472 -0.755793  \n",
       "cci               -0.176196  1.000000         -0.658309  0.311164  \n",
       "delinquency_rate   0.149472 -0.658309          1.000000 -0.570729  \n",
       "hcai              -0.755793  0.311164         -0.570729  1.000000  "
      ]
     },
     "execution_count": 14,
     "metadata": {},
     "output_type": "execute_result"
    }
   ],
   "source": [
    "data_corr"
   ]
  },
  {
   "cell_type": "code",
   "execution_count": 18,
   "id": "a114aa8d-abbb-4952-af16-a4b9d3df7671",
   "metadata": {
    "tags": []
   },
   "outputs": [],
   "source": [
    "import seaborn as sb\n",
    "import matplotlib.pyplot as plt"
   ]
  },
  {
   "cell_type": "code",
   "execution_count": 21,
   "id": "1e4ee144-250d-4071-b8db-382eac1f2d11",
   "metadata": {
    "tags": []
   },
   "outputs": [
    {
     "data": {
      "image/png": "[encoded data removed]",
      "text/plain": [
       "<Figure size 1200x1000 with 2 Axes>"
      ]
     },
     "metadata": {},
     "output_type": "display_data"
    }
   ],
   "source": [
    "mask = np.zeros_like(data_corr)\n",
    "mask[np.triu_indices_from(mask)] = True\n",
    "with sb.axes_style('white'):\n",
    "    f,ax = plt.subplots(figsize=(12,10))\n",
    "    ax = sb.heatmap(data_corr,mask=mask,vmax=1,vmin=-1,linewidth=.5,square=True,cmap='coolwarm',annot=True)\n",
    "    plt.title('Correlation heatmap')\n",
    "    plt.yticks(rotation=0)\n",
    "    plt.tight_layout()"
   ]
  },
  {
   "cell_type": "markdown",
   "id": "a5b64bad-4def-4d20-8998-6adf55d3296f",
   "metadata": {},
   "source": [
    "- Here house_price_index has very strong linear relationship with population, ppi_res and m3.\n",
    "- It also has strong negative relationship with mortage_rate.\n",
    "- And population has also strong relationship with ppi_res and m3 and strong negative relationship with mortage_rate."
   ]
  },
  {
   "cell_type": "markdown",
   "id": "b13470da-f779-4620-a64c-cb110c12471b",
   "metadata": {},
   "source": [
    "## Data Modelling"
   ]
  },
  {
   "cell_type": "markdown",
   "id": "ac11fd2f-303a-45ce-8b46-88608c8187d9",
   "metadata": {},
   "source": [
    "**Feature Scaling**"
   ]
  },
  {
   "cell_type": "code",
   "execution_count": 24,
   "id": "3abd60f8-995d-4a6e-a729-4eeffc81b24b",
   "metadata": {
    "tags": []
   },
   "outputs": [],
   "source": [
    "from sklearn.preprocessing import MinMaxScaler"
   ]
  },
  {
   "cell_type": "code",
   "execution_count": 22,
   "id": "859b15e6-2069-430a-a999-51e25e3251f4",
   "metadata": {
    "tags": []
   },
   "outputs": [],
   "source": [
    "df = data.copy().reset_index()\n",
    "df = df.drop(columns=['Date'])"
   ]
  },
  {
   "cell_type": "code",
   "execution_count": 23,
   "id": "a76ba447-bff9-4581-a2e1-ed359c72bca6",
   "metadata": {
    "tags": []
   },
   "outputs": [
    {
     "data": {
      "text/html": [
       "<div>\n",
       "<style scoped>\n",
       "    .dataframe tbody tr th:only-of-type {\n",
       "        vertical-align: middle;\n",
       "    }\n",
       "\n",
       "    .dataframe tbody tr th {\n",
       "        vertical-align: top;\n",
       "    }\n",
       "\n",
       "    .dataframe thead th {\n",
       "        text-align: right;\n",
       "    }\n",
       "</style>\n",
       "<table border=\"1\" class=\"dataframe\">\n",
       "  <thead>\n",
       "    <tr style=\"text-align: right;\">\n",
       "      <th></th>\n",
       "      <th>house_price_index</th>\n",
       "      <th>population</th>\n",
       "      <th>house_supply</th>\n",
       "      <th>gdp</th>\n",
       "      <th>mortgage_rate</th>\n",
       "      <th>employment_rate</th>\n",
       "      <th>permit_new</th>\n",
       "      <th>ppi_res</th>\n",
       "      <th>m3</th>\n",
       "      <th>cci</th>\n",
       "      <th>delinquency_rate</th>\n",
       "      <th>hcai</th>\n",
       "    </tr>\n",
       "  </thead>\n",
       "  <tbody>\n",
       "    <tr>\n",
       "      <th>0</th>\n",
       "      <td>87.616</td>\n",
       "      <td>274732</td>\n",
       "      <td>4.0</td>\n",
       "      <td>99.994570</td>\n",
       "      <td>6.9940</td>\n",
       "      <td>73.705376</td>\n",
       "      <td>1555.0</td>\n",
       "      <td>137.3</td>\n",
       "      <td>4.0562</td>\n",
       "      <td>102.5385</td>\n",
       "      <td>2.16</td>\n",
       "      <td>10.024</td>\n",
       "    </tr>\n",
       "    <tr>\n",
       "      <th>1</th>\n",
       "      <td>88.004</td>\n",
       "      <td>274943</td>\n",
       "      <td>3.9</td>\n",
       "      <td>99.980549</td>\n",
       "      <td>7.0425</td>\n",
       "      <td>73.776106</td>\n",
       "      <td>1647.0</td>\n",
       "      <td>137.5</td>\n",
       "      <td>4.0889</td>\n",
       "      <td>102.7129</td>\n",
       "      <td>2.16</td>\n",
       "      <td>10.024</td>\n",
       "    </tr>\n",
       "    <tr>\n",
       "      <th>2</th>\n",
       "      <td>88.443</td>\n",
       "      <td>275175</td>\n",
       "      <td>4.1</td>\n",
       "      <td>99.975298</td>\n",
       "      <td>7.1275</td>\n",
       "      <td>73.798698</td>\n",
       "      <td>1605.0</td>\n",
       "      <td>137.5</td>\n",
       "      <td>4.1143</td>\n",
       "      <td>102.7210</td>\n",
       "      <td>2.16</td>\n",
       "      <td>10.024</td>\n",
       "    </tr>\n",
       "    <tr>\n",
       "      <th>3</th>\n",
       "      <td>88.879</td>\n",
       "      <td>275434</td>\n",
       "      <td>4.0</td>\n",
       "      <td>99.984454</td>\n",
       "      <td>7.1400</td>\n",
       "      <td>73.869665</td>\n",
       "      <td>1547.0</td>\n",
       "      <td>137.9</td>\n",
       "      <td>4.1402</td>\n",
       "      <td>102.6981</td>\n",
       "      <td>2.03</td>\n",
       "      <td>9.668</td>\n",
       "    </tr>\n",
       "    <tr>\n",
       "      <th>4</th>\n",
       "      <td>89.365</td>\n",
       "      <td>275700</td>\n",
       "      <td>3.9</td>\n",
       "      <td>100.013988</td>\n",
       "      <td>7.1440</td>\n",
       "      <td>73.880942</td>\n",
       "      <td>1554.0</td>\n",
       "      <td>137.6</td>\n",
       "      <td>4.1644</td>\n",
       "      <td>102.5923</td>\n",
       "      <td>2.03</td>\n",
       "      <td>9.668</td>\n",
       "    </tr>\n",
       "  </tbody>\n",
       "</table>\n",
       "</div>"
      ],
      "text/plain": [
       "   house_price_index  population  house_supply         gdp  mortgage_rate  \\\n",
       "0             87.616      274732           4.0   99.994570         6.9940   \n",
       "1             88.004      274943           3.9   99.980549         7.0425   \n",
       "2             88.443      275175           4.1   99.975298         7.1275   \n",
       "3             88.879      275434           4.0   99.984454         7.1400   \n",
       "4             89.365      275700           3.9  100.013988         7.1440   \n",
       "\n",
       "   employment_rate  permit_new  ppi_res      m3       cci  delinquency_rate  \\\n",
       "0        73.705376      1555.0    137.3  4.0562  102.5385              2.16   \n",
       "1        73.776106      1647.0    137.5  4.0889  102.7129              2.16   \n",
       "2        73.798698      1605.0    137.5  4.1143  102.7210              2.16   \n",
       "3        73.869665      1547.0    137.9  4.1402  102.6981              2.03   \n",
       "4        73.880942      1554.0    137.6  4.1644  102.5923              2.03   \n",
       "\n",
       "     hcai  \n",
       "0  10.024  \n",
       "1  10.024  \n",
       "2  10.024  \n",
       "3   9.668  \n",
       "4   9.668  "
      ]
     },
     "execution_count": 23,
     "metadata": {},
     "output_type": "execute_result"
    }
   ],
   "source": [
    "df[:5]"
   ]
  },
  {
   "cell_type": "code",
   "execution_count": 25,
   "id": "c1fc2ab2-c7cf-4e1e-b4b8-23378359158a",
   "metadata": {
    "tags": []
   },
   "outputs": [
    {
     "data": {
      "text/html": [
       "<div>\n",
       "<style scoped>\n",
       "    .dataframe tbody tr th:only-of-type {\n",
       "        vertical-align: middle;\n",
       "    }\n",
       "\n",
       "    .dataframe tbody tr th {\n",
       "        vertical-align: top;\n",
       "    }\n",
       "\n",
       "    .dataframe thead th {\n",
       "        text-align: right;\n",
       "    }\n",
       "</style>\n",
       "<table border=\"1\" class=\"dataframe\">\n",
       "  <thead>\n",
       "    <tr style=\"text-align: right;\">\n",
       "      <th></th>\n",
       "      <th>house_price_index</th>\n",
       "      <th>population</th>\n",
       "      <th>house_supply</th>\n",
       "      <th>gdp</th>\n",
       "      <th>mortgage_rate</th>\n",
       "      <th>employment_rate</th>\n",
       "      <th>permit_new</th>\n",
       "      <th>ppi_res</th>\n",
       "      <th>m3</th>\n",
       "      <th>cci</th>\n",
       "      <th>delinquency_rate</th>\n",
       "      <th>hcai</th>\n",
       "    </tr>\n",
       "  </thead>\n",
       "  <tbody>\n",
       "    <tr>\n",
       "      <th>0</th>\n",
       "      <td>0.000000</td>\n",
       "      <td>0.000000</td>\n",
       "      <td>0.078652</td>\n",
       "      <td>0.821908</td>\n",
       "      <td>0.739153</td>\n",
       "      <td>0.943701</td>\n",
       "      <td>0.595429</td>\n",
       "      <td>0.001452</td>\n",
       "      <td>0.000000</td>\n",
       "      <td>0.932625</td>\n",
       "      <td>0.076305</td>\n",
       "      <td>0.396848</td>\n",
       "    </tr>\n",
       "    <tr>\n",
       "      <th>1</th>\n",
       "      <td>0.002124</td>\n",
       "      <td>0.003659</td>\n",
       "      <td>0.067416</td>\n",
       "      <td>0.820545</td>\n",
       "      <td>0.747470</td>\n",
       "      <td>0.948666</td>\n",
       "      <td>0.648000</td>\n",
       "      <td>0.002905</td>\n",
       "      <td>0.001931</td>\n",
       "      <td>0.959385</td>\n",
       "      <td>0.076305</td>\n",
       "      <td>0.396848</td>\n",
       "    </tr>\n",
       "    <tr>\n",
       "      <th>2</th>\n",
       "      <td>0.004528</td>\n",
       "      <td>0.007682</td>\n",
       "      <td>0.089888</td>\n",
       "      <td>0.820034</td>\n",
       "      <td>0.762048</td>\n",
       "      <td>0.950251</td>\n",
       "      <td>0.624000</td>\n",
       "      <td>0.002905</td>\n",
       "      <td>0.003431</td>\n",
       "      <td>0.960628</td>\n",
       "      <td>0.076305</td>\n",
       "      <td>0.396848</td>\n",
       "    </tr>\n",
       "    <tr>\n",
       "      <th>3</th>\n",
       "      <td>0.006915</td>\n",
       "      <td>0.012172</td>\n",
       "      <td>0.078652</td>\n",
       "      <td>0.820924</td>\n",
       "      <td>0.764191</td>\n",
       "      <td>0.955233</td>\n",
       "      <td>0.590857</td>\n",
       "      <td>0.005810</td>\n",
       "      <td>0.004960</td>\n",
       "      <td>0.957114</td>\n",
       "      <td>0.063253</td>\n",
       "      <td>0.378574</td>\n",
       "    </tr>\n",
       "    <tr>\n",
       "      <th>4</th>\n",
       "      <td>0.009576</td>\n",
       "      <td>0.016785</td>\n",
       "      <td>0.067416</td>\n",
       "      <td>0.823797</td>\n",
       "      <td>0.764877</td>\n",
       "      <td>0.956024</td>\n",
       "      <td>0.594857</td>\n",
       "      <td>0.003631</td>\n",
       "      <td>0.006389</td>\n",
       "      <td>0.940880</td>\n",
       "      <td>0.063253</td>\n",
       "      <td>0.378574</td>\n",
       "    </tr>\n",
       "  </tbody>\n",
       "</table>\n",
       "</div>"
      ],
      "text/plain": [
       "   house_price_index  population  house_supply       gdp  mortgage_rate  \\\n",
       "0           0.000000    0.000000      0.078652  0.821908       0.739153   \n",
       "1           0.002124    0.003659      0.067416  0.820545       0.747470   \n",
       "2           0.004528    0.007682      0.089888  0.820034       0.762048   \n",
       "3           0.006915    0.012172      0.078652  0.820924       0.764191   \n",
       "4           0.009576    0.016785      0.067416  0.823797       0.764877   \n",
       "\n",
       "   employment_rate  permit_new   ppi_res        m3       cci  \\\n",
       "0         0.943701    0.595429  0.001452  0.000000  0.932625   \n",
       "1         0.948666    0.648000  0.002905  0.001931  0.959385   \n",
       "2         0.950251    0.624000  0.002905  0.003431  0.960628   \n",
       "3         0.955233    0.590857  0.005810  0.004960  0.957114   \n",
       "4         0.956024    0.594857  0.003631  0.006389  0.940880   \n",
       "\n",
       "   delinquency_rate      hcai  \n",
       "0          0.076305  0.396848  \n",
       "1          0.076305  0.396848  \n",
       "2          0.076305  0.396848  \n",
       "3          0.063253  0.378574  \n",
       "4          0.063253  0.378574  "
      ]
     },
     "execution_count": 25,
     "metadata": {},
     "output_type": "execute_result"
    }
   ],
   "source": [
    "scaler = MinMaxScaler()\n",
    "n_df = pd.DataFrame(scaler.fit_transform(df),columns=df.columns,index=df.index)\n",
    "n_df.head()"
   ]
  },
  {
   "cell_type": "markdown",
   "id": "8e8cbd48-3aea-42fb-800d-b0f3a11c54b6",
   "metadata": {},
   "source": [
    "**Splitting the dataset**"
   ]
  },
  {
   "cell_type": "code",
   "execution_count": 30,
   "id": "1fc3bec7-5767-404d-8e75-2017422594ff",
   "metadata": {
    "tags": []
   },
   "outputs": [],
   "source": [
    "from sklearn.model_selection import train_test_split, cross_val_score, RepeatedKFold\n",
    "from sklearn.metrics import mean_squared_error, r2_score\n",
    "from sklearn.linear_model import LinearRegression, Lasso, Ridge, BayesianRidge\n",
    "from sklearn.metrics import mean_squared_error, r2_score"
   ]
  },
  {
   "cell_type": "code",
   "execution_count": 28,
   "id": "6ed2f008-b88f-4333-af7b-c1377326a9e3",
   "metadata": {
    "tags": []
   },
   "outputs": [],
   "source": [
    "X_train,X_test, y_train,y_test = train_test_split(n_df.drop(columns='house_price_index', axis=1), n_df['house_price_index'], test_size=0.30, random_state=40)"
   ]
  },
  {
   "cell_type": "markdown",
   "id": "d19849fa-a80c-49f0-93bf-2387144359cf",
   "metadata": {},
   "source": [
    "**performing various regression models**"
   ]
  },
  {
   "cell_type": "code",
   "execution_count": 32,
   "id": "a5cdfb48-7d60-46fb-a02f-dea660b83194",
   "metadata": {
    "tags": []
   },
   "outputs": [],
   "source": [
    "cv = RepeatedKFold(n_splits=10, n_repeats=3, random_state=1)"
   ]
  },
  {
   "cell_type": "code",
   "execution_count": 36,
   "id": "adb4fddf-9199-4f2e-8fc1-f0fe4a5cdc0d",
   "metadata": {
    "tags": []
   },
   "outputs": [
    {
     "name": "stdout",
     "output_type": "stream",
     "text": [
      "Mean MAE: 0.025 (0.005)\n"
     ]
    }
   ],
   "source": [
    "model1 = Ridge(alpha=1.0)\n",
    "scores1 = cross_val_score(model1, X_train, y_train, scoring='neg_mean_absolute_error', cv=cv, n_jobs=-1)\n",
    "scores1 = np.absolute(scores1)\n",
    "print('Mean MAE: %.3f (%.3f)' % (np.mean(scores1), np.std(scores1)))"
   ]
  },
  {
   "cell_type": "code",
   "execution_count": 37,
   "id": "b9b8b8fd-c4a7-4cfc-8d2e-ef4fcafe655a",
   "metadata": {
    "tags": []
   },
   "outputs": [
    {
     "name": "stdout",
     "output_type": "stream",
     "text": [
      "Mean MAE: 0.161 (0.035)\n"
     ]
    }
   ],
   "source": [
    "model2 = Lasso(alpha=1.0)\n",
    "scores2 = cross_val_score(model2, X_train, y_train, scoring='neg_mean_absolute_error', cv=cv, n_jobs=-1)\n",
    "scores2 = np.absolute(scores2)\n",
    "print('Mean MAE: %.3f (%.3f)' % (np.mean(scores2), np.std(scores2)))"
   ]
  },
  {
   "cell_type": "code",
   "execution_count": 43,
   "id": "3eef22ec-0499-465a-919c-e900ba1fb873",
   "metadata": {
    "tags": []
   },
   "outputs": [
    {
     "name": "stdout",
     "output_type": "stream",
     "text": [
      "Mean MAE: 0.021 (0.005)\n"
     ]
    }
   ],
   "source": [
    "model3 = BayesianRidge()\n",
    "scores3 = cross_val_score(model3, X_train, y_train, scoring='neg_mean_absolute_error', cv=cv, n_jobs=-1)\n",
    "scores3 = np.absolute(scores3)\n",
    "print('Mean MAE: %.3f (%.3f)' % (np.mean(scores3), np.std(scores3)))"
   ]
  },
  {
   "cell_type": "code",
   "execution_count": 41,
   "id": "78c909bb-3b12-4457-a3ee-bd95e2d442a9",
   "metadata": {
    "tags": []
   },
   "outputs": [
    {
     "name": "stdout",
     "output_type": "stream",
     "text": [
      "Mean MAE: 0.021 (0.005)\n"
     ]
    }
   ],
   "source": [
    "model4 = LinearRegression()\n",
    "scores4 = cross_val_score(model4, X_train, y_train, scoring='neg_mean_absolute_error', cv=cv, n_jobs=-1)\n",
    "scores4 = np.absolute(scores4)\n",
    "print('Mean MAE: %.3f (%.3f)' % (np.mean(scores4), np.std(scores4)))"
   ]
  },
  {
   "cell_type": "markdown",
   "id": "f1ce507b-271b-41ab-ac1e-2fc3a06d495d",
   "metadata": {},
   "source": [
    "- so here BayesianRidge and linear regression had the best score. chosing BayesianRidge for further optimization"
   ]
  },
  {
   "cell_type": "markdown",
   "id": "725a3b87-b756-41a5-97af-2b700104e22f",
   "metadata": {},
   "source": [
    "**Model Fitting**"
   ]
  },
  {
   "cell_type": "code",
   "execution_count": 44,
   "id": "ca7efae2-b69f-414d-bbb7-b6ebb0031f10",
   "metadata": {
    "tags": []
   },
   "outputs": [],
   "source": [
    "model_br= BayesianRidge(alpha_1=0, alpha_2=1, lambda_1=9, lambda_2=9)\n",
    "fit_data = model_br.fit(X_train, y_train)"
   ]
  },
  {
   "cell_type": "code",
   "execution_count": 49,
   "id": "e006dc72-b154-4d88-ab8e-820863379457",
   "metadata": {
    "tags": []
   },
   "outputs": [
    {
     "data": {
      "image/png": "[encoded data removed]",
      "text/plain": [
       "<Figure size 1000x1000 with 1 Axes>"
      ]
     },
     "metadata": {},
     "output_type": "display_data"
    }
   ],
   "source": [
    "# pridiction\n",
    "\n",
    "sb.set_style(\"darkgrid\")\n",
    "%matplotlib inline\n",
    "\n",
    "pred = fit_data.predict(X_test)\n",
    "\n",
    "plt.figure(figsize=(10,10))\n",
    "plt.scatter(y_test, pred, c='crimson')\n",
    "plt.yscale('log')\n",
    "plt.xscale('log')\n",
    "\n",
    "p1 = max(max(pred), max(y_test))\n",
    "p2 = min(min(pred), min(y_test))\n",
    "plt.plot([p1,p2],[p1,p2], 'b-')\n",
    "plt.xlabel('True Values', fontsize=15)\n",
    "plt.ylabel('True Values', fontsize=15)\n",
    "plt.title('Accuracy Plot')\n",
    "plt.axis('equal')\n",
    "plt.show()"
   ]
  },
  {
   "cell_type": "markdown",
   "id": "9a04e5d5-e02c-41ea-836a-19a546a0562e",
   "metadata": {},
   "source": [
    "**Bias-Variance Check**"
   ]
  },
  {
   "cell_type": "code",
   "execution_count": 54,
   "id": "246dabcb-ab55-4ebe-ba33-3fe59aefd215",
   "metadata": {
    "tags": []
   },
   "outputs": [
    {
     "name": "stdout",
     "output_type": "stream",
     "text": [
      "Average Bias :  0.0007025169596903938\n",
      "Average Variance :  5.185576727522386e-05\n"
     ]
    }
   ],
   "source": [
    "from mlxtend.evaluate import bias_variance_decomp\n",
    "X_tr = X_train.to_numpy(dtype ='float32')\n",
    "X_tst = X_test.to_numpy(dtype ='float32')\n",
    "y_tr = y_train.to_numpy(dtype ='float32')\n",
    "y_tst = y_test.to_numpy(dtype ='float32')\n",
    "\n",
    "mse, bias, variance = bias_variance_decomp(model_br, X_tr, y_tr, X_tst, y_tst, \n",
    "                                           loss='mse', num_rounds=200, random_seed=123)\n",
    "print(\"Average Bias : \", bias)\n",
    "print(\"Average Variance : \", variance)"
   ]
  },
  {
   "cell_type": "code",
   "execution_count": 56,
   "id": "40a0ee3f-f9d1-4dbb-9469-c91cedcbee67",
   "metadata": {
    "tags": []
   },
   "outputs": [
    {
     "name": "stdout",
     "output_type": "stream",
     "text": [
      "RMSE:  0.026585648218241935\n",
      "R squared:  0.9865736979165105\n"
     ]
    }
   ],
   "source": [
    "rmse=np.sqrt(mean_squared_error(y_test, pred))\n",
    "print('RMSE: ', rmse)\n",
    "r2 = r2_score(y_test, pred)\n",
    "print('R squared: ', r2)"
   ]
  },
  {
   "cell_type": "code",
   "execution_count": null,
   "id": "bbad9592-6632-46ed-bb43-5dd2d6f550fd",
   "metadata": {},
   "outputs": [],
   "source": []
  }
 ],
 "metadata": {
  "kernelspec": {
   "display_name": "Python 3 (ipykernel)",
   "language": "python",
   "name": "python3"
  },
  "language_info": {
   "codemirror_mode": {
    "name": "ipython",
    "version": 3
   },
   "file_extension": ".py",
   "mimetype": "text/x-python",
   "name": "python",
   "nbconvert_exporter": "python",
   "pygments_lexer": "ipython3",
   "version": "3.9.17"
  }
 },
 "nbformat": 4,
 "nbformat_minor": 5
}
